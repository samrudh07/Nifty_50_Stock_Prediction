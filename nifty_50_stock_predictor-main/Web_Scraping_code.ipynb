{
  "nbformat": 4,
  "nbformat_minor": 0,
  "metadata": {
    "colab": {
      "provenance": []
    },
    "kernelspec": {
      "name": "python3",
      "display_name": "Python 3"
    },
    "language_info": {
      "name": "python"
    }
  },
  "cells": [
    {
      "cell_type": "code",
      "source": [
        "!pip install nsepy"
      ],
      "metadata": {
        "id": "QtuuoTIZZn8j"
      },
      "execution_count": null,
      "outputs": []
    },
    {
      "cell_type": "code",
      "execution_count": 67,
      "metadata": {
        "id": "AjKW3ixHYm-A"
      },
      "outputs": [],
      "source": [
        "import pandas as pd  #Libraries we used\n",
        "import numpy as np\n",
        "from nsepy import get_history\n",
        "from datetime import date"
      ]
    },
    {
      "cell_type": "code",
      "source": [
        "nf50_url = 'https://www1.nseindia.com/content/indices/ind_nifty50list.csv' # Import from NSE Nifty50 list Site\n",
        "\n",
        "df_nf50 = pd.read_csv(nf50_url)"
      ],
      "metadata": {
        "id": "-FUzbM9hZ7ga"
      },
      "execution_count": 54,
      "outputs": []
    },
    {
      "cell_type": "code",
      "source": [
        "Compy = df_nf50['Symbol']"
      ],
      "metadata": {
        "id": "-XGKCXkTaNni"
      },
      "execution_count": 55,
      "outputs": []
    },
    {
      "cell_type": "code",
      "source": [
        "Symbol_li = []\n",
        "\n",
        "for i in np.array(Compy):\n",
        "  Symbol_li.append(i)"
      ],
      "metadata": {
        "id": "l9flkmGZaZBt"
      },
      "execution_count": 56,
      "outputs": []
    },
    {
      "cell_type": "code",
      "source": [
        "Symbol_li"
      ],
      "metadata": {
        "id": "D5yppcTga-Qu"
      },
      "execution_count": null,
      "outputs": []
    },
    {
      "cell_type": "code",
      "source": [
        "get_history(symbol='SBIN',\n",
        "                   start=date(2018,12,14),\n",
        "                   end=date(2022,12,13)).shape"
      ],
      "metadata": {
        "colab": {
          "base_uri": "https://localhost:8080/"
        },
        "id": "DqjiANEFoDju",
        "outputId": "b3641368-67f3-4042-c1bc-3cb16c9e6eec"
      },
      "execution_count": 48,
      "outputs": [
        {
          "output_type": "stream",
          "name": "stderr",
          "text": [
            "WARNING:urllib3.connectionpool:Connection pool is full, discarding connection: www1.nseindia.com\n",
            "WARNING:urllib3.connectionpool:Connection pool is full, discarding connection: www1.nseindia.com\n"
          ]
        },
        {
          "output_type": "execute_result",
          "data": {
            "text/plain": [
              "(992, 14)"
            ]
          },
          "metadata": {},
          "execution_count": 48
        }
      ]
    },
    {
      "cell_type": "code",
      "source": [
        "nifty50=pd.DataFrame()\n",
        "for i in Symbol_li:\n",
        "   new = get_history(symbol=i,\n",
        "                   start=date(2018,12,14),\n",
        "                   end=date(2022,12,13))\n",
        "   nifty50 = nifty50.append(new)"
      ],
      "metadata": {
        "id": "I6KLh4aAZ69v"
      },
      "execution_count": null,
      "outputs": []
    },
    {
      "cell_type": "code",
      "source": [
        "nifty50 = nifty50.reset_index()"
      ],
      "metadata": {
        "id": "kTiII4VGcLxV"
      },
      "execution_count": 59,
      "outputs": []
    },
    {
      "cell_type": "code",
      "source": [
        "nifty50.shape"
      ],
      "metadata": {
        "colab": {
          "base_uri": "https://localhost:8080/"
        },
        "id": "w54ZMO3DzEhQ",
        "outputId": "c965f56b-2a68-46fc-92ad-10775848dff7"
      },
      "execution_count": 61,
      "outputs": [
        {
          "output_type": "execute_result",
          "data": {
            "text/plain": [
              "(49550, 15)"
            ]
          },
          "metadata": {},
          "execution_count": 61
        }
      ]
    },
    {
      "cell_type": "code",
      "source": [
        "nifty50['Date'] = pd.to_datetime(nifty50['Date'])"
      ],
      "metadata": {
        "id": "_Om53m9AkxLu"
      },
      "execution_count": 62,
      "outputs": []
    },
    {
      "cell_type": "code",
      "source": [
        "nifty50.to_csv('/content/drive/MyDrive/Masai Assign/DA - Projects/DA Project 3/nifty50.csv') # Export to CSV"
      ],
      "metadata": {
        "id": "rzjBFsrecXM1"
      },
      "execution_count": 65,
      "outputs": []
    },
    {
      "cell_type": "code",
      "source": [
        "nifty50.dtypes"
      ],
      "metadata": {
        "colab": {
          "base_uri": "https://localhost:8080/"
        },
        "id": "3OLAKVuokmmK",
        "outputId": "996eddfb-9774-49fe-b199-9e77bfa77c50"
      },
      "execution_count": 63,
      "outputs": [
        {
          "output_type": "execute_result",
          "data": {
            "text/plain": [
              "Date                  datetime64[ns]\n",
              "Symbol                        object\n",
              "Series                        object\n",
              "Prev Close                   float64\n",
              "Open                         float64\n",
              "High                         float64\n",
              "Low                          float64\n",
              "Last                         float64\n",
              "Close                        float64\n",
              "VWAP                         float64\n",
              "Volume                         int64\n",
              "Turnover                     float64\n",
              "Trades                         int64\n",
              "Deliverable Volume             int64\n",
              "%Deliverble                  float64\n",
              "dtype: object"
            ]
          },
          "metadata": {},
          "execution_count": 63
        }
      ]
    },
    {
      "cell_type": "code",
      "source": [
        "nifty50.corr()"
      ],
      "metadata": {
        "colab": {
          "base_uri": "https://localhost:8080/",
          "height": 525
        },
        "id": "P9kADPiQzfFs",
        "outputId": "5dc7a6c8-2c6a-45d8-c4e4-cf5b69e32d2e"
      },
      "execution_count": 66,
      "outputs": [
        {
          "output_type": "execute_result",
          "data": {
            "text/plain": [
              "                    Prev Close      Open      High       Low      Last  \\\n",
              "Prev Close            1.000000  0.999379  0.999278  0.999273  0.999159   \n",
              "Open                  0.999379  1.000000  0.999851  0.999879  0.999750   \n",
              "High                  0.999278  0.999851  1.000000  0.999805  0.999885   \n",
              "Low                   0.999273  0.999879  0.999805  1.000000  0.999879   \n",
              "Last                  0.999159  0.999750  0.999885  0.999879  1.000000   \n",
              "Close                 0.999163  0.999753  0.999890  0.999884  0.999995   \n",
              "VWAP                  0.999280  0.999869  0.999941  0.999939  0.999957   \n",
              "Volume               -0.257041 -0.257224 -0.256672 -0.257568 -0.257075   \n",
              "Turnover             -0.041454 -0.041859 -0.039765 -0.042903 -0.040993   \n",
              "Trades               -0.196339 -0.197246 -0.195447 -0.198640 -0.196889   \n",
              "Deliverable Volume   -0.261703 -0.261934 -0.261635 -0.262196 -0.261916   \n",
              "%Deliverble          -0.021233 -0.021447 -0.023468 -0.020559 -0.022313   \n",
              "\n",
              "                       Close      VWAP    Volume  Turnover    Trades  \\\n",
              "Prev Close          0.999163  0.999280 -0.257041 -0.041454 -0.196339   \n",
              "Open                0.999753  0.999869 -0.257224 -0.041859 -0.197246   \n",
              "High                0.999890  0.999941 -0.256672 -0.039765 -0.195447   \n",
              "Low                 0.999884  0.999939 -0.257568 -0.042903 -0.198640   \n",
              "Last                0.999995  0.999957 -0.257075 -0.040993 -0.196889   \n",
              "Close               1.000000  0.999963 -0.257051 -0.041001 -0.196917   \n",
              "VWAP                0.999963  1.000000 -0.257130 -0.041167 -0.196986   \n",
              "Volume             -0.257051 -0.257130  1.000000  0.545926  0.671958   \n",
              "Turnover           -0.041001 -0.041167  0.545926  1.000000  0.849995   \n",
              "Trades             -0.196917 -0.196986  0.671958  0.849995  1.000000   \n",
              "Deliverable Volume -0.261895 -0.261969  0.802772  0.491251  0.551367   \n",
              "%Deliverble        -0.022324 -0.022304 -0.181591 -0.095899 -0.084330   \n",
              "\n",
              "                    Deliverable Volume  %Deliverble  \n",
              "Prev Close                   -0.261703    -0.021233  \n",
              "Open                         -0.261934    -0.021447  \n",
              "High                         -0.261635    -0.023468  \n",
              "Low                          -0.262196    -0.020559  \n",
              "Last                         -0.261916    -0.022313  \n",
              "Close                        -0.261895    -0.022324  \n",
              "VWAP                         -0.261969    -0.022304  \n",
              "Volume                        0.802772    -0.181591  \n",
              "Turnover                      0.491251    -0.095899  \n",
              "Trades                        0.551367    -0.084330  \n",
              "Deliverable Volume            1.000000     0.123721  \n",
              "%Deliverble                   0.123721     1.000000  "
            ],
            "text/html": [
              "\n",
              "  <div id=\"df-a05da56d-3517-44cc-98c2-0e7ba5d28494\">\n",
              "    <div class=\"colab-df-container\">\n",
              "      <div>\n",
              "<style scoped>\n",
              "    .dataframe tbody tr th:only-of-type {\n",
              "        vertical-align: middle;\n",
              "    }\n",
              "\n",
              "    .dataframe tbody tr th {\n",
              "        vertical-align: top;\n",
              "    }\n",
              "\n",
              "    .dataframe thead th {\n",
              "        text-align: right;\n",
              "    }\n",
              "</style>\n",
              "<table border=\"1\" class=\"dataframe\">\n",
              "  <thead>\n",
              "    <tr style=\"text-align: right;\">\n",
              "      <th></th>\n",
              "      <th>Prev Close</th>\n",
              "      <th>Open</th>\n",
              "      <th>High</th>\n",
              "      <th>Low</th>\n",
              "      <th>Last</th>\n",
              "      <th>Close</th>\n",
              "      <th>VWAP</th>\n",
              "      <th>Volume</th>\n",
              "      <th>Turnover</th>\n",
              "      <th>Trades</th>\n",
              "      <th>Deliverable Volume</th>\n",
              "      <th>%Deliverble</th>\n",
              "    </tr>\n",
              "  </thead>\n",
              "  <tbody>\n",
              "    <tr>\n",
              "      <th>Prev Close</th>\n",
              "      <td>1.000000</td>\n",
              "      <td>0.999379</td>\n",
              "      <td>0.999278</td>\n",
              "      <td>0.999273</td>\n",
              "      <td>0.999159</td>\n",
              "      <td>0.999163</td>\n",
              "      <td>0.999280</td>\n",
              "      <td>-0.257041</td>\n",
              "      <td>-0.041454</td>\n",
              "      <td>-0.196339</td>\n",
              "      <td>-0.261703</td>\n",
              "      <td>-0.021233</td>\n",
              "    </tr>\n",
              "    <tr>\n",
              "      <th>Open</th>\n",
              "      <td>0.999379</td>\n",
              "      <td>1.000000</td>\n",
              "      <td>0.999851</td>\n",
              "      <td>0.999879</td>\n",
              "      <td>0.999750</td>\n",
              "      <td>0.999753</td>\n",
              "      <td>0.999869</td>\n",
              "      <td>-0.257224</td>\n",
              "      <td>-0.041859</td>\n",
              "      <td>-0.197246</td>\n",
              "      <td>-0.261934</td>\n",
              "      <td>-0.021447</td>\n",
              "    </tr>\n",
              "    <tr>\n",
              "      <th>High</th>\n",
              "      <td>0.999278</td>\n",
              "      <td>0.999851</td>\n",
              "      <td>1.000000</td>\n",
              "      <td>0.999805</td>\n",
              "      <td>0.999885</td>\n",
              "      <td>0.999890</td>\n",
              "      <td>0.999941</td>\n",
              "      <td>-0.256672</td>\n",
              "      <td>-0.039765</td>\n",
              "      <td>-0.195447</td>\n",
              "      <td>-0.261635</td>\n",
              "      <td>-0.023468</td>\n",
              "    </tr>\n",
              "    <tr>\n",
              "      <th>Low</th>\n",
              "      <td>0.999273</td>\n",
              "      <td>0.999879</td>\n",
              "      <td>0.999805</td>\n",
              "      <td>1.000000</td>\n",
              "      <td>0.999879</td>\n",
              "      <td>0.999884</td>\n",
              "      <td>0.999939</td>\n",
              "      <td>-0.257568</td>\n",
              "      <td>-0.042903</td>\n",
              "      <td>-0.198640</td>\n",
              "      <td>-0.262196</td>\n",
              "      <td>-0.020559</td>\n",
              "    </tr>\n",
              "    <tr>\n",
              "      <th>Last</th>\n",
              "      <td>0.999159</td>\n",
              "      <td>0.999750</td>\n",
              "      <td>0.999885</td>\n",
              "      <td>0.999879</td>\n",
              "      <td>1.000000</td>\n",
              "      <td>0.999995</td>\n",
              "      <td>0.999957</td>\n",
              "      <td>-0.257075</td>\n",
              "      <td>-0.040993</td>\n",
              "      <td>-0.196889</td>\n",
              "      <td>-0.261916</td>\n",
              "      <td>-0.022313</td>\n",
              "    </tr>\n",
              "    <tr>\n",
              "      <th>Close</th>\n",
              "      <td>0.999163</td>\n",
              "      <td>0.999753</td>\n",
              "      <td>0.999890</td>\n",
              "      <td>0.999884</td>\n",
              "      <td>0.999995</td>\n",
              "      <td>1.000000</td>\n",
              "      <td>0.999963</td>\n",
              "      <td>-0.257051</td>\n",
              "      <td>-0.041001</td>\n",
              "      <td>-0.196917</td>\n",
              "      <td>-0.261895</td>\n",
              "      <td>-0.022324</td>\n",
              "    </tr>\n",
              "    <tr>\n",
              "      <th>VWAP</th>\n",
              "      <td>0.999280</td>\n",
              "      <td>0.999869</td>\n",
              "      <td>0.999941</td>\n",
              "      <td>0.999939</td>\n",
              "      <td>0.999957</td>\n",
              "      <td>0.999963</td>\n",
              "      <td>1.000000</td>\n",
              "      <td>-0.257130</td>\n",
              "      <td>-0.041167</td>\n",
              "      <td>-0.196986</td>\n",
              "      <td>-0.261969</td>\n",
              "      <td>-0.022304</td>\n",
              "    </tr>\n",
              "    <tr>\n",
              "      <th>Volume</th>\n",
              "      <td>-0.257041</td>\n",
              "      <td>-0.257224</td>\n",
              "      <td>-0.256672</td>\n",
              "      <td>-0.257568</td>\n",
              "      <td>-0.257075</td>\n",
              "      <td>-0.257051</td>\n",
              "      <td>-0.257130</td>\n",
              "      <td>1.000000</td>\n",
              "      <td>0.545926</td>\n",
              "      <td>0.671958</td>\n",
              "      <td>0.802772</td>\n",
              "      <td>-0.181591</td>\n",
              "    </tr>\n",
              "    <tr>\n",
              "      <th>Turnover</th>\n",
              "      <td>-0.041454</td>\n",
              "      <td>-0.041859</td>\n",
              "      <td>-0.039765</td>\n",
              "      <td>-0.042903</td>\n",
              "      <td>-0.040993</td>\n",
              "      <td>-0.041001</td>\n",
              "      <td>-0.041167</td>\n",
              "      <td>0.545926</td>\n",
              "      <td>1.000000</td>\n",
              "      <td>0.849995</td>\n",
              "      <td>0.491251</td>\n",
              "      <td>-0.095899</td>\n",
              "    </tr>\n",
              "    <tr>\n",
              "      <th>Trades</th>\n",
              "      <td>-0.196339</td>\n",
              "      <td>-0.197246</td>\n",
              "      <td>-0.195447</td>\n",
              "      <td>-0.198640</td>\n",
              "      <td>-0.196889</td>\n",
              "      <td>-0.196917</td>\n",
              "      <td>-0.196986</td>\n",
              "      <td>0.671958</td>\n",
              "      <td>0.849995</td>\n",
              "      <td>1.000000</td>\n",
              "      <td>0.551367</td>\n",
              "      <td>-0.084330</td>\n",
              "    </tr>\n",
              "    <tr>\n",
              "      <th>Deliverable Volume</th>\n",
              "      <td>-0.261703</td>\n",
              "      <td>-0.261934</td>\n",
              "      <td>-0.261635</td>\n",
              "      <td>-0.262196</td>\n",
              "      <td>-0.261916</td>\n",
              "      <td>-0.261895</td>\n",
              "      <td>-0.261969</td>\n",
              "      <td>0.802772</td>\n",
              "      <td>0.491251</td>\n",
              "      <td>0.551367</td>\n",
              "      <td>1.000000</td>\n",
              "      <td>0.123721</td>\n",
              "    </tr>\n",
              "    <tr>\n",
              "      <th>%Deliverble</th>\n",
              "      <td>-0.021233</td>\n",
              "      <td>-0.021447</td>\n",
              "      <td>-0.023468</td>\n",
              "      <td>-0.020559</td>\n",
              "      <td>-0.022313</td>\n",
              "      <td>-0.022324</td>\n",
              "      <td>-0.022304</td>\n",
              "      <td>-0.181591</td>\n",
              "      <td>-0.095899</td>\n",
              "      <td>-0.084330</td>\n",
              "      <td>0.123721</td>\n",
              "      <td>1.000000</td>\n",
              "    </tr>\n",
              "  </tbody>\n",
              "</table>\n",
              "</div>\n",
              "      <button class=\"colab-df-convert\" onclick=\"convertToInteractive('df-a05da56d-3517-44cc-98c2-0e7ba5d28494')\"\n",
              "              title=\"Convert this dataframe to an interactive table.\"\n",
              "              style=\"display:none;\">\n",
              "        \n",
              "  <svg xmlns=\"http://www.w3.org/2000/svg\" height=\"24px\"viewBox=\"0 0 24 24\"\n",
              "       width=\"24px\">\n",
              "    <path d=\"M0 0h24v24H0V0z\" fill=\"none\"/>\n",
              "    <path d=\"M18.56 5.44l.94 2.06.94-2.06 2.06-.94-2.06-.94-.94-2.06-.94 2.06-2.06.94zm-11 1L8.5 8.5l.94-2.06 2.06-.94-2.06-.94L8.5 2.5l-.94 2.06-2.06.94zm10 10l.94 2.06.94-2.06 2.06-.94-2.06-.94-.94-2.06-.94 2.06-2.06.94z\"/><path d=\"M17.41 7.96l-1.37-1.37c-.4-.4-.92-.59-1.43-.59-.52 0-1.04.2-1.43.59L10.3 9.45l-7.72 7.72c-.78.78-.78 2.05 0 2.83L4 21.41c.39.39.9.59 1.41.59.51 0 1.02-.2 1.41-.59l7.78-7.78 2.81-2.81c.8-.78.8-2.07 0-2.86zM5.41 20L4 18.59l7.72-7.72 1.47 1.35L5.41 20z\"/>\n",
              "  </svg>\n",
              "      </button>\n",
              "      \n",
              "  <style>\n",
              "    .colab-df-container {\n",
              "      display:flex;\n",
              "      flex-wrap:wrap;\n",
              "      gap: 12px;\n",
              "    }\n",
              "\n",
              "    .colab-df-convert {\n",
              "      background-color: #E8F0FE;\n",
              "      border: none;\n",
              "      border-radius: 50%;\n",
              "      cursor: pointer;\n",
              "      display: none;\n",
              "      fill: #1967D2;\n",
              "      height: 32px;\n",
              "      padding: 0 0 0 0;\n",
              "      width: 32px;\n",
              "    }\n",
              "\n",
              "    .colab-df-convert:hover {\n",
              "      background-color: #E2EBFA;\n",
              "      box-shadow: 0px 1px 2px rgba(60, 64, 67, 0.3), 0px 1px 3px 1px rgba(60, 64, 67, 0.15);\n",
              "      fill: #174EA6;\n",
              "    }\n",
              "\n",
              "    [theme=dark] .colab-df-convert {\n",
              "      background-color: #3B4455;\n",
              "      fill: #D2E3FC;\n",
              "    }\n",
              "\n",
              "    [theme=dark] .colab-df-convert:hover {\n",
              "      background-color: #434B5C;\n",
              "      box-shadow: 0px 1px 3px 1px rgba(0, 0, 0, 0.15);\n",
              "      filter: drop-shadow(0px 1px 2px rgba(0, 0, 0, 0.3));\n",
              "      fill: #FFFFFF;\n",
              "    }\n",
              "  </style>\n",
              "\n",
              "      <script>\n",
              "        const buttonEl =\n",
              "          document.querySelector('#df-a05da56d-3517-44cc-98c2-0e7ba5d28494 button.colab-df-convert');\n",
              "        buttonEl.style.display =\n",
              "          google.colab.kernel.accessAllowed ? 'block' : 'none';\n",
              "\n",
              "        async function convertToInteractive(key) {\n",
              "          const element = document.querySelector('#df-a05da56d-3517-44cc-98c2-0e7ba5d28494');\n",
              "          const dataTable =\n",
              "            await google.colab.kernel.invokeFunction('convertToInteractive',\n",
              "                                                     [key], {});\n",
              "          if (!dataTable) return;\n",
              "\n",
              "          const docLinkHtml = 'Like what you see? Visit the ' +\n",
              "            '<a target=\"_blank\" href=https://colab.research.google.com/notebooks/data_table.ipynb>data table notebook</a>'\n",
              "            + ' to learn more about interactive tables.';\n",
              "          element.innerHTML = '';\n",
              "          dataTable['output_type'] = 'display_data';\n",
              "          await google.colab.output.renderOutput(dataTable, element);\n",
              "          const docLink = document.createElement('div');\n",
              "          docLink.innerHTML = docLinkHtml;\n",
              "          element.appendChild(docLink);\n",
              "        }\n",
              "      </script>\n",
              "    </div>\n",
              "  </div>\n",
              "  "
            ]
          },
          "metadata": {},
          "execution_count": 66
        }
      ]
    }
  ]
}